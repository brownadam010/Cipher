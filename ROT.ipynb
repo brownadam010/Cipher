{
 "cells": [
  {
   "cell_type": "code",
   "execution_count": 132,
   "metadata": {},
   "outputs": [
    {
     "data": {
      "text/plain": [
       "'Data is like people, interrogate it hard enough and it will tell you whatever you want to hear.23'"
      ]
     },
     "execution_count": 132,
     "metadata": {},
     "output_type": "execute_result"
    }
   ],
   "source": [
    "#added another set of a-z for both captials and lowercase sets because for some reason i kept getting index \n",
    "#errors when the clear text was to long, this seemed to fix that issue.\n",
    "lowercaseLetters = 'abcdefghijklmnopqrstuvwxyzabcdefghijklmnopqrstuvwxyz'\n",
    "\n",
    "uppercaseLetters = 'ABCDEFGHIJKLMNOPQRSTUVWXYZABCDEFGHIJKLMNOPQRSTUVWXYZ'\n",
    "\n",
    "# used to keep length of alphabet for index purposes.\n",
    "keyLengthConstant = 26  \n",
    "    "
   ]
  },
  {
   "cell_type": "code",
   "execution_count": 139,
   "metadata": {},
   "outputs": [
    {
     "data": {
      "text/plain": [
       "'Tqjq yi byau fuefbu, ydjuhhewqju yj xqht udekwx qdt yj mybb jubb oek mxqjuluh oek mqdj je xuqh.'"
      ]
     },
     "execution_count": 139,
     "metadata": {},
     "output_type": "execute_result"
    }
   ],
   "source": [
    "clearText = \"Data is like people, interrogate it hard enough and it will tell you whatever you want to hear.\"\n",
    "\n",
    "def encode_rot(text, key):\n",
    "    \n",
    "    # will be the string that is shown after cypher\n",
    "    mixedString = \"\"\n",
    "    \n",
    "    # if cypher shift is set to 0 just return text because nothing is happening\n",
    "    if (key == 0):\n",
    "        return text\n",
    "    \n",
    "    # this I was able to find that helps with index issues for to long of a message being inserted into the \n",
    "    # function, essentially it finds the lowest equivalent to the shift if it is passed 26\n",
    "    key = key % keyLengthConstant\n",
    "            \n",
    "    # logic to cypher text by finding index of original message char and increasing corresponding char by adding \n",
    "    # the key, or shift amount, to it and adding that char into the mixed string to be displayed.\n",
    "    for char in text:\n",
    "        if (char in lowercaseLetters):\n",
    "            charLocation = lowercaseLetters.index(char)\n",
    "            mixedChar = lowercaseLetters[charLocation + key]\n",
    "            mixedString += mixedChar\n",
    "        elif (char in uppercaseLetters):\n",
    "            charLocation = uppercaseLetters.index(char)\n",
    "            mixedChar = uppercaseLetters[charLocation + key]\n",
    "            mixedString += mixedChar\n",
    "        else:\n",
    "            mixedString += char\n",
    "    \n",
    "    return mixedString\n",
    "\n",
    "encode_rot(clearText, 16)"
   ]
  },
  {
   "cell_type": "code",
   "execution_count": 141,
   "metadata": {},
   "outputs": [
    {
     "data": {
      "text/plain": [
       "'Data is like people, interrogate it hard enough and it will tell you whatever you want to hear. [key: 16]'"
      ]
     },
     "execution_count": 141,
     "metadata": {},
     "output_type": "execute_result"
    }
   ],
   "source": [
    "def decode_rot(cypherText):\n",
    "    \n",
    "    #add to sentence with each shift of the key\n",
    "    clearWords = \"\"\n",
    "    \n",
    "    #read dictionary file\n",
    "    dictionary = open(\"dictionary.txt\", \"r\")\n",
    "    \n",
    "    #split input into seperate words in a list\n",
    "    splitCypher = cypherText.split(' ')\n",
    "    \n",
    "    #set each word to their own index in a set\n",
    "    dictionaryWords = set(word.strip() for word in dictionary)\n",
    "    \n",
    "    #checking words found or not found in dictionary\n",
    "    wordFoundCount = 0\n",
    "    wordsNotFound = 0\n",
    "    \n",
    "    #take key and go backwards in char location from input cypher by key from 0 - 25 and insert into clearwords\n",
    "    for shift in range(0, 25):        \n",
    "        for i in cypherText:\n",
    "            if (i in lowercaseLetters):\n",
    "                charlocation = lowercaseLetters.index(i)\n",
    "                findChar = lowercaseLetters[charlocation - shift]\n",
    "                clearWords += findChar\n",
    "            elif (i in uppercaseLetters):\n",
    "                charLocation = uppercaseLetters.index(i)\n",
    "                findChar = uppercaseLetters[charLocation - shift]\n",
    "                clearWords += findChar\n",
    "            else:\n",
    "                clearWords += i\n",
    "\n",
    "        #take new sentence and split them into their own index in a list\n",
    "        refactoredWords = clearWords.split(' ')\n",
    "\n",
    "        #for each word in the decyphered list check with dictionary and add 1 for words found and add 1 if not \n",
    "        #found\n",
    "        for word in refactoredWords:\n",
    "            if (word in dictionaryWords):\n",
    "                wordFoundCount += 1\n",
    "            else:\n",
    "                wordsNotFound += 1\n",
    "\n",
    "        #if words found in the dictionary trump the words not found assume they are right and return the \n",
    "        #decyphered string and its original key\n",
    "        if (wordFoundCount > wordsNotFound):\n",
    "            return(clearWords + \" [key: \" + str(shift) + \"]\")\n",
    "        else:\n",
    "            clearWords = \"\"\n",
    "            wordFoundCount = 0\n",
    "            wordsNotFound = 0\n",
    "    \n",
    "\n",
    "decode_rot(\"Tqjq yi byau fuefbu, ydjuhhewqju yj xqht udekwx qdt yj mybb jubb oek mxqjuluh oek mqdj je xuqh.\")"
   ]
  },
  {
   "cell_type": "code",
   "execution_count": null,
   "metadata": {},
   "outputs": [],
   "source": []
  },
  {
   "cell_type": "code",
   "execution_count": null,
   "metadata": {},
   "outputs": [],
   "source": []
  }
 ],
 "metadata": {
  "kernelspec": {
   "display_name": "Python 3",
   "language": "python",
   "name": "python3"
  },
  "language_info": {
   "codemirror_mode": {
    "name": "ipython",
    "version": 3
   },
   "file_extension": ".py",
   "mimetype": "text/x-python",
   "name": "python",
   "nbconvert_exporter": "python",
   "pygments_lexer": "ipython3",
   "version": "3.7.6"
  }
 },
 "nbformat": 4,
 "nbformat_minor": 4
}
